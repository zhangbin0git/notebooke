{
 "cells": [
  {
   "cell_type": "markdown",
   "metadata": {},
   "source": [
    "# 信息化评估的系统性分析如何实现信息化评估的全面性，做到没有死角"
   ]
  },
  {
   "cell_type": "markdown",
   "metadata": {},
   "source": [
    "首先，不被陷入具体的系统中；其次，不被陷入具体的技术中；最后，不被陷入具体的部门（人员）中。  \n",
    "系统性信息化评估所面临的挑战有：  \n",
    "如何面对纷繁复杂的众多信息系统？  \n",
    "如何不陷入具体的功能实现和操作？  \n",
    "如何应对不断变化的管理职能和业务流程？  \n",
    "如何在众多的评估中做到重点突出？  \n",
    "如何反映系统的集成性、柔性和拓展性？"
   ]
  },
  {
   "cell_type": "code",
   "execution_count": null,
   "metadata": {},
   "outputs": [],
   "source": []
  }
 ],
 "metadata": {
  "kernelspec": {
   "display_name": "Python 3",
   "language": "python",
   "name": "python3"
  },
  "language_info": {
   "codemirror_mode": {
    "name": "ipython",
    "version": 3
   },
   "file_extension": ".py",
   "mimetype": "text/x-python",
   "name": "python",
   "nbconvert_exporter": "python",
   "pygments_lexer": "ipython3",
   "version": "3.6.4"
  }
 },
 "nbformat": 4,
 "nbformat_minor": 2
}
